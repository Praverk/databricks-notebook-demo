{
 "cells": [
  {
   "cell_type": "code",
   "execution_count": 0,
   "metadata": {
    "application/vnd.databricks.v1+cell": {
     "cellMetadata": {
      "byteLimit": 2048000,
      "rowLimit": 10000
     },
     "inputWidgets": {},
     "nuid": "fd982ab2-8f96-4ced-aaff-fe5cd1d8bff4",
     "showTitle": false,
     "tableResultSettingsMap": {},
     "title": ""
    }
   },
   "outputs": [],
   "source": [
    "spark.conf.set(\"spark.sql.shuffle.partitions\", 50)"
   ]
  },
  {
   "cell_type": "code",
   "execution_count": 0,
   "metadata": {
    "application/vnd.databricks.v1+cell": {
     "cellMetadata": {
      "byteLimit": 2048000,
      "rowLimit": 10000
     },
     "inputWidgets": {},
     "nuid": "41fd41c8-613d-472e-89f1-0ca368a860d5",
     "showTitle": false,
     "tableResultSettingsMap": {},
     "title": ""
    }
   },
   "outputs": [],
   "source": [
    "df = (spark.read\n",
    "      .format(\"csv\")\n",
    "      .option(\"header\", True)\n",
    "      .option(\"inferSchema\", True)\n",
    "      .load(\"/Volumes/external-catalog/default/test-volumne/Employee_Attrition.csv\"))\n",
    "display(df)"
   ]
  },
  {
   "cell_type": "code",
   "execution_count": 0,
   "metadata": {
    "application/vnd.databricks.v1+cell": {
     "cellMetadata": {
      "byteLimit": 2048000,
      "rowLimit": 10000
     },
     "inputWidgets": {},
     "nuid": "55ebc9dc-a614-4cd0-b0a2-6156e246678d",
     "showTitle": false,
     "tableResultSettingsMap": {},
     "title": ""
    }
   },
   "outputs": [],
   "source": [
    "high_risk_df = (\n",
    "    df.filter((df.Attrition == \"No\") & (df.JobSatisfaction < 3))\n",
    "      .select(\n",
    "          \"EmployeeNumber\",\n",
    "          \"Age\",\n",
    "          \"Department\",\n",
    "          \"JobRole\",\n",
    "          \"JobSatisfaction\",\n",
    "          \"OverTime\",\n",
    "          \"MonthlyIncome\",\n",
    "          \"YearsAtCompany\",\n",
    "          \"DistanceFromHome\",\n",
    "          \"EnvironmentSatisfaction\",\n",
    "          \"WorkLifeBalance\"\n",
    "      )\n",
    ")\n",
    "\n",
    "high_risk_df.write.format(\"delta\").mode(\"append\").saveAsTable(\"`external-catalog`.default.high_risk_attrition_employees\")"
   ]
  },
  {
   "cell_type": "code",
   "execution_count": 0,
   "metadata": {
    "application/vnd.databricks.v1+cell": {
     "cellMetadata": {
      "byteLimit": 2048000,
      "rowLimit": 10000
     },
     "inputWidgets": {},
     "nuid": "28852d1d-6653-48e6-b6ba-a906fda8c6da",
     "showTitle": false,
     "tableResultSettingsMap": {
      "0": {
       "dataGridStateBlob": "{\"version\":1,\"tableState\":{\"columnPinning\":{\"left\":[\"#row_number#\"],\"right\":[]},\"columnSizing\":{},\"columnVisibility\":{}},\"settings\":{\"columns\":{}},\"syncTimestamp\":1758811228072}",
       "filterBlob": null,
       "queryPlanFiltersBlob": null,
       "tableResultIndex": 0
      }
     },
     "title": ""
    }
   },
   "outputs": [],
   "source": [
    "versions_df = spark.sql(\"\"\"\n",
    "  DESCRIBE HISTORY `external-catalog`.default.high_risk_attrition_employees\n",
    "\"\"\")\n",
    "display(versions_df.select(\"version\", \"timestamp\", \"operation\"))"
   ]
  },
  {
   "cell_type": "code",
   "execution_count": 0,
   "metadata": {
    "application/vnd.databricks.v1+cell": {
     "cellMetadata": {
      "byteLimit": 2048000,
      "rowLimit": 10000
     },
     "inputWidgets": {},
     "nuid": "d005b197-d406-40d6-8090-80604e98cb8b",
     "showTitle": false,
     "tableResultSettingsMap": {},
     "title": ""
    }
   },
   "outputs": [],
   "source": [
    "delta_df = spark.read.format(\"delta\").table(\"`external-catalog`.default.high_risk_attrition_employees\")\n",
    "display(delta_df)"
   ]
  },
  {
   "cell_type": "code",
   "execution_count": 0,
   "metadata": {
    "application/vnd.databricks.v1+cell": {
     "cellMetadata": {
      "byteLimit": 2048000,
      "rowLimit": 10000
     },
     "inputWidgets": {},
     "nuid": "7253a6d6-61fc-44c5-be7c-34cca7ee7162",
     "showTitle": false,
     "tableResultSettingsMap": {},
     "title": ""
    }
   },
   "outputs": [],
   "source": [
    "from pyspark.sql import Row\n",
    "from pyspark.sql.types import StructType, StructField, IntegerType, StringType\n",
    "\n",
    "# Define schema to match existing table\n",
    "schema = StructType([\n",
    "    StructField(\"EmployeeNumber\", IntegerType(), True),\n",
    "    StructField(\"Age\", IntegerType(), True),\n",
    "    StructField(\"Department\", StringType(), True),\n",
    "    StructField(\"JobRole\", StringType(), True),\n",
    "    StructField(\"JobSatisfaction\", IntegerType(), True),\n",
    "    StructField(\"OverTime\", StringType(), True),\n",
    "    StructField(\"MonthlyIncome\", IntegerType(), True),\n",
    "    StructField(\"YearsAtCompany\", IntegerType(), True),\n",
    "    StructField(\"DistanceFromHome\", IntegerType(), True),\n",
    "    StructField(\"EnvironmentSatisfaction\", IntegerType(), True),\n",
    "    StructField(\"WorkLifeBalance\", IntegerType(), True)\n",
    "])\n",
    "\n",
    "# Create dummy data\n",
    "dummy_data = [(-1, 0, \"Dummy\", \"Dummy\", 0, \"No\", 0, 0, 0, 0, 0)]\n",
    "\n",
    "dummy_df = spark.createDataFrame(dummy_data, schema)\n",
    "dummy_df.write.format(\"delta\").mode(\"append\").saveAsTable(\"`external-catalog`.default.high_risk_attrition_employees\")"
   ]
  },
  {
   "cell_type": "code",
   "execution_count": 0,
   "metadata": {
    "application/vnd.databricks.v1+cell": {
     "cellMetadata": {
      "byteLimit": 2048000,
      "rowLimit": 10000
     },
     "inputWidgets": {},
     "nuid": "d9fb7328-3b77-47d9-ae55-0c9f8c5742f8",
     "showTitle": false,
     "tableResultSettingsMap": {},
     "title": ""
    }
   },
   "outputs": [],
   "source": [
    "delta_df = spark.read.format(\"delta\").table(\"`external-catalog`.default.high_risk_attrition_employees\")\n",
    "display(delta_df)"
   ]
  },
  {
   "cell_type": "code",
   "execution_count": 0,
   "metadata": {
    "application/vnd.databricks.v1+cell": {
     "cellMetadata": {
      "byteLimit": 2048000,
      "rowLimit": 10000
     },
     "inputWidgets": {},
     "nuid": "a5f7315e-fe59-40b6-8d7c-619db337a3cd",
     "showTitle": false,
     "tableResultSettingsMap": {},
     "title": ""
    }
   },
   "outputs": [],
   "source": [
    "versions_df = spark.sql(\"\"\"\n",
    "  DESCRIBE HISTORY `external-catalog`.default.high_risk_attrition_employees\n",
    "\"\"\")\n",
    "display(versions_df.select(\"version\", \"timestamp\", \"operation\"))"
   ]
  },
  {
   "cell_type": "code",
   "execution_count": 0,
   "metadata": {
    "application/vnd.databricks.v1+cell": {
     "cellMetadata": {
      "byteLimit": 2048000,
      "rowLimit": 10000
     },
     "inputWidgets": {},
     "nuid": "ae8b47d0-3511-4e31-b5cd-8ea41b907619",
     "showTitle": false,
     "tableResultSettingsMap": {},
     "title": ""
    }
   },
   "outputs": [],
   "source": [
    "delta_df_v = spark.read.format(\"delta\").option(\"versionAsOf\", 0).table(\"`external-catalog`.default.high_risk_attrition_employees\")\n",
    "display(delta_df_v)"
   ]
  },
  {
   "cell_type": "code",
   "execution_count": 0,
   "metadata": {
    "application/vnd.databricks.v1+cell": {
     "cellMetadata": {
      "byteLimit": 2048000,
      "rowLimit": 10000
     },
     "inputWidgets": {},
     "nuid": "d9f9f905-4dca-4fd1-b036-e52e5a70d24d",
     "showTitle": false,
     "tableResultSettingsMap": {},
     "title": ""
    }
   },
   "outputs": [],
   "source": [
    "delta_df_ts = spark.read.format(\"delta\").option(\"timestampAsOf\", \"2025-09-25T14:32:00.000+00:00\").table(\"`external-catalog`.default.high_risk_attrition_employees\")\n",
    "display(delta_df_ts)"
   ]
  },
  {
   "cell_type": "code",
   "execution_count": 0,
   "metadata": {
    "application/vnd.databricks.v1+cell": {
     "cellMetadata": {
      "byteLimit": 2048000,
      "rowLimit": 10000
     },
     "inputWidgets": {},
     "nuid": "bc626334-c26c-425d-a789-6436a60a73b8",
     "showTitle": false,
     "tableResultSettingsMap": {},
     "title": ""
    }
   },
   "outputs": [],
   "source": [
    "spark.sql(\"\"\"\n",
    "  CREATE VOLUME IF NOT EXISTS `external-catalog`.default.employee_transformed_data\n",
    "\"\"\")"
   ]
  },
  {
   "cell_type": "code",
   "execution_count": 0,
   "metadata": {
    "application/vnd.databricks.v1+cell": {
     "cellMetadata": {
      "byteLimit": 2048000,
      "rowLimit": 10000
     },
     "inputWidgets": {},
     "nuid": "0cac246f-abfb-4585-bc27-e770b2504040",
     "showTitle": false,
     "tableResultSettingsMap": {},
     "title": ""
    }
   },
   "outputs": [],
   "source": [
    "transformed_df = (\n",
    "    df.withColumn(\"IsHighIncome\", df.MonthlyIncome > 10000)\n",
    "      .withColumn(\"IsLongTenure\", df.YearsAtCompany > 5)\n",
    ")\n",
    "\n",
    "transformed_df.write.format(\"delta\") \\\n",
    "    .mode(\"overwrite\") \\\n",
    "    .partitionBy(\"Department\") \\\n",
    "    .save(\"/Volumes/external-catalog/default/employee_transformed_data\")"
   ]
  }
 ],
 "metadata": {
  "application/vnd.databricks.v1+notebook": {
   "computePreferences": null,
   "dashboards": [],
   "environmentMetadata": {
    "base_environment": "",
    "environment_version": "3"
   },
   "inputWidgetPreferences": null,
   "language": "python",
   "notebookMetadata": {
    "pythonIndentUnit": 4
   },
   "notebookName": "employee_stats_analysis",
   "widgets": {}
  },
  "language_info": {
   "name": "python"
  }
 },
 "nbformat": 4,
 "nbformat_minor": 0
}
